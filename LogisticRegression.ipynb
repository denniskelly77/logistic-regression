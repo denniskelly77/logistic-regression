{
 "cells": [
  {
   "cell_type": "code",
   "execution_count": 1,
   "id": "8895d1f5",
   "metadata": {},
   "outputs": [],
   "source": [
    "import numpy as np\n",
    "import pandas as pd\n",
    "import seaborn as sns\n",
    "import matplotlib.pyplot as plt\n",
    "from sklearn.linear_model import LogisticRegressionCV\n",
    "from sklearn.preprocessing import StandardScaler\n",
    "from sklearn.model_selection import train_test_split\n",
    "from sklearn.metrics import confusion_matrix, matthews_corrcoef, roc_curve, roc_auc_score\n",
    "\n",
    "sns.set_style(\"whitegrid\")"
   ]
  },
  {
   "cell_type": "markdown",
   "id": "438c387e",
   "metadata": {},
   "source": [
    "Read in the dataset, whcih is the well-known Pima Indians Diabetes dataset"
   ]
  },
  {
   "cell_type": "code",
   "execution_count": 2,
   "id": "67526360",
   "metadata": {},
   "outputs": [
    {
     "data": {
      "text/html": [
       "<div>\n",
       "<style scoped>\n",
       "    .dataframe tbody tr th:only-of-type {\n",
       "        vertical-align: middle;\n",
       "    }\n",
       "\n",
       "    .dataframe tbody tr th {\n",
       "        vertical-align: top;\n",
       "    }\n",
       "\n",
       "    .dataframe thead th {\n",
       "        text-align: right;\n",
       "    }\n",
       "</style>\n",
       "<table border=\"1\" class=\"dataframe\">\n",
       "  <thead>\n",
       "    <tr style=\"text-align: right;\">\n",
       "      <th></th>\n",
       "      <th>Pregnancies</th>\n",
       "      <th>Glucose</th>\n",
       "      <th>BloodPressure</th>\n",
       "      <th>SkinThickness</th>\n",
       "      <th>Insulin</th>\n",
       "      <th>BMI</th>\n",
       "      <th>DiabetesPedigreeFunction</th>\n",
       "      <th>Age</th>\n",
       "      <th>Outcome</th>\n",
       "    </tr>\n",
       "  </thead>\n",
       "  <tbody>\n",
       "    <tr>\n",
       "      <th>0</th>\n",
       "      <td>6</td>\n",
       "      <td>148</td>\n",
       "      <td>72</td>\n",
       "      <td>35</td>\n",
       "      <td>0</td>\n",
       "      <td>33.6</td>\n",
       "      <td>0.627</td>\n",
       "      <td>50</td>\n",
       "      <td>1</td>\n",
       "    </tr>\n",
       "    <tr>\n",
       "      <th>1</th>\n",
       "      <td>1</td>\n",
       "      <td>85</td>\n",
       "      <td>66</td>\n",
       "      <td>29</td>\n",
       "      <td>0</td>\n",
       "      <td>26.6</td>\n",
       "      <td>0.351</td>\n",
       "      <td>31</td>\n",
       "      <td>0</td>\n",
       "    </tr>\n",
       "    <tr>\n",
       "      <th>2</th>\n",
       "      <td>8</td>\n",
       "      <td>183</td>\n",
       "      <td>64</td>\n",
       "      <td>0</td>\n",
       "      <td>0</td>\n",
       "      <td>23.3</td>\n",
       "      <td>0.672</td>\n",
       "      <td>32</td>\n",
       "      <td>1</td>\n",
       "    </tr>\n",
       "    <tr>\n",
       "      <th>3</th>\n",
       "      <td>1</td>\n",
       "      <td>89</td>\n",
       "      <td>66</td>\n",
       "      <td>23</td>\n",
       "      <td>94</td>\n",
       "      <td>28.1</td>\n",
       "      <td>0.167</td>\n",
       "      <td>21</td>\n",
       "      <td>0</td>\n",
       "    </tr>\n",
       "    <tr>\n",
       "      <th>4</th>\n",
       "      <td>0</td>\n",
       "      <td>137</td>\n",
       "      <td>40</td>\n",
       "      <td>35</td>\n",
       "      <td>168</td>\n",
       "      <td>43.1</td>\n",
       "      <td>2.288</td>\n",
       "      <td>33</td>\n",
       "      <td>1</td>\n",
       "    </tr>\n",
       "  </tbody>\n",
       "</table>\n",
       "</div>"
      ],
      "text/plain": [
       "   Pregnancies  Glucose  BloodPressure  SkinThickness  Insulin   BMI  \\\n",
       "0            6      148             72             35        0  33.6   \n",
       "1            1       85             66             29        0  26.6   \n",
       "2            8      183             64              0        0  23.3   \n",
       "3            1       89             66             23       94  28.1   \n",
       "4            0      137             40             35      168  43.1   \n",
       "\n",
       "   DiabetesPedigreeFunction  Age  Outcome  \n",
       "0                     0.627   50        1  \n",
       "1                     0.351   31        0  \n",
       "2                     0.672   32        1  \n",
       "3                     0.167   21        0  \n",
       "4                     2.288   33        1  "
      ]
     },
     "execution_count": 2,
     "metadata": {},
     "output_type": "execute_result"
    }
   ],
   "source": [
    "diabetes = pd.read_csv('diabetes.csv')\n",
    "\n",
    "diabetes.head()"
   ]
  },
  {
   "cell_type": "code",
   "execution_count": 3,
   "id": "544dd389",
   "metadata": {},
   "outputs": [
    {
     "name": "stdout",
     "output_type": "stream",
     "text": [
      "<class 'pandas.core.frame.DataFrame'>\n",
      "RangeIndex: 768 entries, 0 to 767\n",
      "Data columns (total 9 columns):\n",
      " #   Column                    Non-Null Count  Dtype  \n",
      "---  ------                    --------------  -----  \n",
      " 0   Pregnancies               768 non-null    int64  \n",
      " 1   Glucose                   768 non-null    int64  \n",
      " 2   BloodPressure             768 non-null    int64  \n",
      " 3   SkinThickness             768 non-null    int64  \n",
      " 4   Insulin                   768 non-null    int64  \n",
      " 5   BMI                       768 non-null    float64\n",
      " 6   DiabetesPedigreeFunction  768 non-null    float64\n",
      " 7   Age                       768 non-null    int64  \n",
      " 8   Outcome                   768 non-null    int64  \n",
      "dtypes: float64(2), int64(7)\n",
      "memory usage: 54.1 KB\n"
     ]
    }
   ],
   "source": [
    "diabetes.info()"
   ]
  },
  {
   "cell_type": "markdown",
   "id": "87b81fad",
   "metadata": {},
   "source": [
    "Break out the Outcome column, which is the target variable."
   ]
  },
  {
   "cell_type": "code",
   "execution_count": 4,
   "id": "fb6aa72c",
   "metadata": {},
   "outputs": [],
   "source": [
    "outcome = diabetes['Outcome']\n",
    "diabetes.drop(columns='Outcome', inplace=True)"
   ]
  },
  {
   "cell_type": "markdown",
   "id": "08506146",
   "metadata": {},
   "source": [
    "Split the data into training and test sets, standardize predictors since we're using regularization"
   ]
  },
  {
   "cell_type": "code",
   "execution_count": 5,
   "id": "77635040",
   "metadata": {},
   "outputs": [],
   "source": [
    "X_train, X_test, y_train, y_test = train_test_split(diabetes, outcome, test_size=0.2)\n",
    "\n",
    "std_X_train = StandardScaler().fit_transform(X_train)\n",
    "std_X_test = StandardScaler().fit_transform(X_test)"
   ]
  },
  {
   "cell_type": "markdown",
   "id": "38b0cbdd",
   "metadata": {},
   "source": [
    "Now fit a logistic regression model on the training data"
   ]
  },
  {
   "cell_type": "code",
   "execution_count": 6,
   "id": "df9a1168",
   "metadata": {},
   "outputs": [
    {
     "name": "stdout",
     "output_type": "stream",
     "text": [
      "Model Training Summary\n",
      "======================\n",
      "Number of Iterations: [[[8 8 9 8 8 9 9 8 7 6 4 3 1 1 1]\n",
      "  [7 4 9 8 8 9 8 8 7 6 4 3 1 1 1]\n",
      "  [8 8 9 8 8 9 9 8 7 5 4 3 1 1 1]\n",
      "  [8 4 9 8 8 9 9 8 8 6 5 3 1 1 1]\n",
      "  [8 7 9 8 8 9 9 8 7 5 4 3 1 1 1]]]\n",
      "Intercept: [-0.74241216]\n",
      "Coefficients: [[ 0.2016776   0.67582179 -0.10641732  0.00886398  0.02270072  0.3823331\n",
      "   0.22360149  0.18879263]]\n",
      "Chosen C hyperparameter: [0.01930698]\n",
      "In-sample Accuracy: 0.7703583061889251\n"
     ]
    }
   ],
   "source": [
    "model = LogisticRegressionCV(Cs=15)\n",
    "\n",
    "model.fit(std_X_train, y_train)\n",
    "print(\"Model Training Summary\")\n",
    "print(\"======================\")\n",
    "print(f\"Number of Iterations: {model.n_iter_}\")\n",
    "print(f\"Intercept: {model.intercept_}\")\n",
    "print(f\"Coefficients: {model.coef_}\")\n",
    "print(f\"Chosen C hyperparameter: {model.C_}\")\n",
    "print(f\"In-sample Accuracy: {model.score(std_X_train, y_train)}\")"
   ]
  },
  {
   "cell_type": "markdown",
   "id": "60540ae2",
   "metadata": {},
   "source": [
    "Assess performance on test data"
   ]
  },
  {
   "cell_type": "code",
   "execution_count": 7,
   "id": "b24bdc45",
   "metadata": {},
   "outputs": [
    {
     "name": "stdout",
     "output_type": "stream",
     "text": [
      "Confusion Matrix\n",
      " [[94  7]\n",
      " [26 27]]\n",
      "Out-of-sample accuracy: 0.7857142857142857\n",
      "Out-of-sample Matthews Correlation Coefficient: 0.5041346902146397\n",
      "Out-of-sample AUC: 0.8266392677003549\n"
     ]
    },
    {
     "data": {
      "image/png": "[encoded data removed]",
      "text/plain": [
       "<Figure size 432x288 with 1 Axes>"
      ]
     },
     "metadata": {},
     "output_type": "display_data"
    }
   ],
   "source": [
    "y_pred = model.predict(std_X_test)\n",
    "pred_diabetes_prob = model.predict_proba(std_X_test)[:,1]\n",
    "\n",
    "fpr, tpr, thresholds = roc_curve(y_test, pred_diabetes_prob)\n",
    "\n",
    "print(\"Confusion Matrix\\n\", confusion_matrix(y_test, y_pred))\n",
    "print(f\"Out-of-sample accuracy: {model.score(std_X_test, y_test)}\")\n",
    "print(f\"Out-of-sample Matthews Correlation Coefficient: {matthews_corrcoef(y_test, y_pred)}\")\n",
    "print(f\"Out-of-sample AUC: {roc_auc_score(y_test, pred_diabetes_prob)}\")\n",
    "\n",
    "plt.plot(fpr, tpr)\n",
    "plt.xlabel(\"False Positive Rate\")\n",
    "plt.ylabel(\"True Positive Rate\")\n",
    "plt.title(\"ROC Curve\")\n",
    "plt.show()"
   ]
  }
 ],
 "metadata": {
  "kernelspec": {
   "display_name": "Python 3 (ipykernel)",
   "language": "python",
   "name": "python3"
  },
  "language_info": {
   "codemirror_mode": {
    "name": "ipython",
    "version": 3
   },
   "file_extension": ".py",
   "mimetype": "text/x-python",
   "name": "python",
   "nbconvert_exporter": "python",
   "pygments_lexer": "ipython3",
   "version": "3.9.12"
  }
 },
 "nbformat": 4,
 "nbformat_minor": 5
}
